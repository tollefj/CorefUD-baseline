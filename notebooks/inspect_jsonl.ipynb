{
 "cells": [
  {
   "cell_type": "code",
   "execution_count": 10,
   "metadata": {},
   "outputs": [],
   "source": [
    "import jsonlines\n",
    "\n",
    "path = \"../data_jsonl/no_bokmaalnarc/no_bokmaalnarc-corefud-dev.jsonl\"\n",
    "with jsonlines.open(path, mode=\"r\") as inf:\n",
    "    data = [doc for doc in inf]"
   ]
  },
  {
   "cell_type": "code",
   "execution_count": 11,
   "metadata": {},
   "outputs": [
    {
     "data": {
      "text/plain": [
       "dict_keys(['document_id', 'cased_words', 'sent_id', 'pos', 'deprel', 'head', 'clusters', 'mentions'])"
      ]
     },
     "execution_count": 11,
     "metadata": {},
     "output_type": "execute_result"
    }
   ],
   "source": [
    "data = data[0]\n",
    "data.keys()"
   ]
  },
  {
   "cell_type": "code",
   "execution_count": 15,
   "metadata": {},
   "outputs": [
    {
     "name": "stdout",
     "output_type": "stream",
     "text": [
      "Pinefull 1\n",
      "død None\n",
      "for 5\n",
      "den 5\n",
      "irske 5\n",
      "pub 1\n",
      "? 1\n",
      "Irene 8\n",
      "diskuterer None\n",
      "over 11\n"
     ]
    }
   ],
   "source": [
    "tokens = data[\"cased_words\"]\n",
    "heads = data[\"head\"]\n",
    "for t,h in list(zip(tokens, heads))[:10]:\n",
    "    print(t,h)"
   ]
  }
 ],
 "metadata": {
  "kernelspec": {
   "display_name": "wlcoref",
   "language": "python",
   "name": "python3"
  },
  "language_info": {
   "codemirror_mode": {
    "name": "ipython",
    "version": 3
   },
   "file_extension": ".py",
   "mimetype": "text/x-python",
   "name": "python",
   "nbconvert_exporter": "python",
   "pygments_lexer": "ipython3",
   "version": "3.9.18"
  },
  "orig_nbformat": 4
 },
 "nbformat": 4,
 "nbformat_minor": 2
}
